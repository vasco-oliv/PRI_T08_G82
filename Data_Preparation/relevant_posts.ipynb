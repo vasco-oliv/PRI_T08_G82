{
 "cells": [
  {
   "cell_type": "code",
   "execution_count": 6,
   "metadata": {},
   "outputs": [],
   "source": [
    "import pandas as pd\n",
    "\n",
    "# Load the data json file\n",
    "data = pd.read_csv('../Dataset/dataset.csv')\n"
   ]
  },
  {
   "cell_type": "code",
   "execution_count": 8,
   "metadata": {},
   "outputs": [
    {
     "data": {
      "text/plain": [
       "15679    qe5acf\n",
       "61009    ov4ksc\n",
       "13145    qlz84l\n",
       "52211    qp47yr\n",
       "9745     qvbq4d\n",
       "66649    nptqrl\n",
       "18679    q506vj\n",
       "67348    njio08\n",
       "50846    qzc8ul\n",
       "60236    p0c0n4\n",
       "Name: id, dtype: object"
      ]
     },
     "execution_count": 8,
     "metadata": {},
     "output_type": "execute_result"
    }
   ],
   "source": [
    "keywords = ['anxious', 'anxiety', 'anxiously', 'anxiousness', 'non-anxious', 'overanxious']\n",
    "\n",
    "# get all rows where the columns title or body contain any of the keywords\n",
    "data = data[data['title'].str.contains('|'.join(keywords), case=False) | data['body'].str.contains('|'.join(keywords), case=False)]\n",
    "\n",
    "# get the 10 rows with the highest number of keyword appearances. In case of a tie, sort by post_score\n",
    "data = data.assign(keyword_count=data['title'].str.count('|'.join(keywords)) + data['body'].str.count('|'.join(keywords)))\n",
    "data = data.nlargest(10, ['keyword_count', 'post_score'])\n",
    "\n",
    "# print the result\n",
    "data['id']"
   ]
  }
 ],
 "metadata": {
  "kernelspec": {
   "display_name": "base",
   "language": "python",
   "name": "python3"
  },
  "language_info": {
   "codemirror_mode": {
    "name": "ipython",
    "version": 3
   },
   "file_extension": ".py",
   "mimetype": "text/x-python",
   "name": "python",
   "nbconvert_exporter": "python",
   "pygments_lexer": "ipython3",
   "version": "3.9.13"
  }
 },
 "nbformat": 4,
 "nbformat_minor": 2
}
