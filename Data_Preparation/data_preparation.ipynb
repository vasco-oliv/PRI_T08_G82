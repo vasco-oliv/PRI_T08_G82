{
 "cells": [
  {
   "cell_type": "markdown",
   "metadata": {},
   "source": [
    "# Dataset preparation"
   ]
  },
  {
   "cell_type": "code",
   "execution_count": 1,
   "metadata": {},
   "outputs": [],
   "source": [
    "import pandas as pd"
   ]
  },
  {
   "cell_type": "code",
   "execution_count": 3,
   "metadata": {},
   "outputs": [],
   "source": [
    "def read_source_csv(folder_path):\n",
    "    adhd_df = pd.read_csv(folder_path + '/adhd.csv')\n",
    "    aspergers_df = pd.read_csv(folder_path + '/aspergers.csv')\n",
    "    depression_df = pd.read_csv(folder_path + '/depression.csv')\n",
    "    ocd_df = pd.read_csv(folder_path + '/ocd.csv')\n",
    "    ptsd_df = pd.read_csv(folder_path + '/ptsd.csv')\n",
    "\n",
    "    # join everything together with a new column for the label\n",
    "    \"\"\" adhd_df['subreddit'] = 'adhd'\n",
    "    aspergers_df['subreddit'] = 'aspergers'\n",
    "    depression_df['subreddit'] = 'depression'\n",
    "    ocd_df['subreddit'] = 'ocd'\n",
    "    ptsd_df['subreddit'] = 'ptsd' \"\"\"\n",
    "\n",
    "    return pd.concat([adhd_df, aspergers_df, depression_df, ocd_df, ptsd_df])\n",
    "\n",
    "def read_clean_csv(file_path):\n",
    "    return pd.read_csv(file_path)"
   ]
  },
  {
   "cell_type": "code",
   "execution_count": 5,
   "metadata": {},
   "outputs": [
    {
     "name": "stdout",
     "output_type": "stream",
     "text": [
      "87078\n",
      "50750\n"
     ]
    }
   ],
   "source": [
    "dd = pd.read_csv('../Dataset/dataset.csv')\n",
    "# Display number of rows \n",
    "print(dd.shape[0])\n",
    "#display number of different authors\n",
    "print(dd['author'].nunique())"
   ]
  },
  {
   "cell_type": "code",
   "execution_count": 4,
   "metadata": {},
   "outputs": [
    {
     "name": "stdout",
     "output_type": "stream",
     "text": [
      "151288\n"
     ]
    }
   ],
   "source": [
    "df = read_source_csv('../Dataset')\n",
    "\n",
    "# Print the number of rows of the dataset\n",
    "print(df.shape[0])"
   ]
  },
  {
   "cell_type": "markdown",
   "metadata": {},
   "source": [
    "## Cleaning the data"
   ]
  },
  {
   "cell_type": "code",
   "execution_count": 5,
   "metadata": {},
   "outputs": [
    {
     "name": "stdout",
     "output_type": "stream",
     "text": [
      "                author                                               body  \\\n",
      "0  HotConversation1273  A few months ago I was accepted into this full...   \n",
      "1           snorefestt  Hey guys, I was curious if anyone else has the...   \n",
      "2               etyf12   \\n\\ni have 6 exams in the next 2 weeks one of...   \n",
      "3    GetHairOrDieTryin  Is there anyone out there that is struggling w...   \n",
      "4         ZeroTransPat  Whenever I get hungry, I never eat because I d...   \n",
      "\n",
      "  creation_date      id  num_comments  post_score subreddit  \\\n",
      "0    2021-12-22  rmbjwb             1           1      ADHD   \n",
      "1    2021-12-22  rmbd1y             3           5      ADHD   \n",
      "2    2021-12-22  rmbbvu             1           2      ADHD   \n",
      "3    2021-12-22  rmba1t             3           2      ADHD   \n",
      "4    2021-12-22  rmb8lm             2           1      ADHD   \n",
      "\n",
      "                                               title  upvote_ratio  \\\n",
      "0    I get extremely anxious if I’m not working 24/7           1.0   \n",
      "1  I can't will myself to clean my own house, but...           1.0   \n",
      "2                                   i need some help           1.0   \n",
      "3                              Anyone up for a chat?           1.0   \n",
      "4                     Figuring out what to eat sucks           1.0   \n",
      "\n",
      "                                                 url  \n",
      "0  https://www.reddit.com/r/ADHD/comments/rmbjwb/...  \n",
      "1  https://www.reddit.com/r/ADHD/comments/rmbd1y/...  \n",
      "2  https://www.reddit.com/r/ADHD/comments/rmbbvu/...  \n",
      "3  https://www.reddit.com/r/ADHD/comments/rmba1t/...  \n",
      "4  https://www.reddit.com/r/ADHD/comments/rmb8lm/...  \n"
     ]
    }
   ],
   "source": [
    "# Drop NaN values\n",
    "df = df.dropna()\n",
    "\n",
    "# Drop removed bodies\n",
    "df = df[df['body'] != '[removed]']\n",
    "df = df[df['body'] != '[deleted]']\n",
    "\n",
    "#change column name 'created_utc' to 'creation_date'\n",
    "df.rename(columns={'created_utc': 'creation_date', 'score':'post_score'}, inplace=True)\n",
    "#change the date format to contain only the date, knowing that the date is in the format 2021-12-22T18:32:56.000Z\n",
    "df['creation_date'] = df['creation_date'].str.split('T').str[0]\n",
    "\n",
    "print(df.head())"
   ]
  },
  {
   "cell_type": "code",
   "execution_count": 6,
   "metadata": {},
   "outputs": [
    {
     "name": "stdout",
     "output_type": "stream",
     "text": [
      "87078\n"
     ]
    }
   ],
   "source": [
    "print(df.shape[0])\n",
    "# Create a new .csv file with the cleaned data 'df' named dataset.csv, in the folder 'Dataset'\n",
    "df.to_csv('../Dataset/dataset.csv', index=False)\n",
    "\n",
    "# Create a new json file with the cleaned data 'df' named dataset, in the folder 'Dataset'\n",
    "df.to_json('../Dataset/dataset.json', orient='records', lines=True)\n"
   ]
  },
  {
   "cell_type": "code",
   "execution_count": 7,
   "metadata": {},
   "outputs": [],
   "source": [
    "dd.to_json('../Dataset/dataset.json', orient='records', lines=True)"
   ]
  }
 ],
 "metadata": {
  "kernelspec": {
   "display_name": "base",
   "language": "python",
   "name": "python3"
  },
  "language_info": {
   "codemirror_mode": {
    "name": "ipython",
    "version": 3
   },
   "file_extension": ".py",
   "mimetype": "text/x-python",
   "name": "python",
   "nbconvert_exporter": "python",
   "pygments_lexer": "ipython3",
   "version": "3.9.13"
  }
 },
 "nbformat": 4,
 "nbformat_minor": 2
}
