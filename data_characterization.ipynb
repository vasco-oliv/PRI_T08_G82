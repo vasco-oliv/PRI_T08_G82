{
 "cells": [
  {
   "cell_type": "markdown",
   "metadata": {},
   "source": [
    "# Data Characterization"
   ]
  },
  {
   "cell_type": "code",
   "execution_count": null,
   "metadata": {},
   "outputs": [],
   "source": [
    "import pandas as pd # type: ignore\n",
    "dd = pd.read_csv(\"Dataset/dataset.csv\")"
   ]
  },
  {
   "cell_type": "code",
   "execution_count": null,
   "metadata": {},
   "outputs": [],
   "source": [
    "# Get most used words in the body column\n",
    "\n",
    "from collections import Counter\n",
    "import re\n",
    "\n",
    "# Get the most used words in the body column\n",
    "def get_most_used_words(df, n):\n",
    "    # Get all the words in the body column\n",
    "    all_words = ' '.join(df['body']).split()\n",
    "    # Count the number of times each word appears\n",
    "    word_counts = Counter(all_words)\n",
    "    # Get the n most common words\n",
    "    return word_counts.most_common(n)\n",
    "\n",
    "# Get the 10 most used words in the body column and their counts\n",
    "most_used_words = get_most_used_words(dd, 10)\n",
    "print(most_used_words)"
   ]
  },
  {
   "cell_type": "code",
   "execution_count": null,
   "metadata": {},
   "outputs": [],
   "source": [
    "# Get the most used words in the body column that are not stop words\n",
    "import nltk\n",
    "from nltk.corpus import stopwords\n",
    "\n",
    "# Get the most used words in the body column that are not stop words\n",
    "def get_most_used_words_without_stop_words(df, n):\n",
    "    # Get all the words in the body column\n",
    "    all_words = ' '.join(df['body']).split()\n",
    "    # Get the stop words\n",
    "    stop_words = set(stopwords.words('english'))\n",
    "    # Count the number of times each word appears\n",
    "    word_counts = Counter(all_words)\n",
    "    # Get the n most common words that are not stop words\n",
    "    return [(word, count) for word, count in word_counts.most_common() if word not in stop_words][:n]\n",
    "\n",
    "# Get the 10 most used words in the body column that are not stop words and their counts\n",
    "most_used_words_without_stop_words = get_most_used_words_without_stop_words(dd, 10)\n",
    "print(most_used_words_without_stop_words)\n"
   ]
  },
  {
   "cell_type": "code",
   "execution_count": null,
   "metadata": {},
   "outputs": [],
   "source": [
    "# Get the month/year combos with the most posts\n",
    "import calendar\n",
    "\n",
    "# Get the months with the most posts\n",
    "def get_months_with_most_posts(df):\n",
    "    # Get the month of each post\n",
    "    months = df['creation_date'].str.split('-').str[1]\n",
    "    # Count the number of posts for each month\n",
    "    month_counts = Counter(months)\n",
    "    # Get the months with the most posts\n",
    "    return [calendar.month_name[int(month)] for month, _ in month_counts.most_common()]\n",
    "\n",
    "# Get the months with the most posts\n",
    "months_with_most_posts = get_months_with_most_posts(dd)\n",
    "print(months_with_most_posts)\n",
    "\n",
    "# plot it\n",
    "import matplotlib.pyplot as plt\n",
    "\n",
    "# Get the number of posts for each month\n",
    "months = dd['creation_date'].str.split('-').str[1]\n",
    "month_counts = Counter(months)\n",
    "# Get the months\n",
    "months = [calendar.month_name[int(month)] for month, _ in month_counts.items()]\n",
    "months.reverse()\n",
    "# Get the number of posts\n",
    "counts = list(month_counts.values())\n",
    "counts.reverse()\n",
    "# Plot the number of posts for each month in month calendar order\n",
    "plt.bar(months, counts)\n",
    "plt.xticks(rotation=45)\n",
    "plt.xlabel('Month')\n",
    "plt.ylabel('Number of Posts')\n",
    "plt.title('Number of Posts per Month')\n",
    "plt.show()\n"
   ]
  },
  {
   "cell_type": "code",
   "execution_count": null,
   "metadata": {},
   "outputs": [],
   "source": [
    "# Get the years in order of most posts\n",
    "def get_years_in_order_of_most_posts(df):\n",
    "    # Get the year of each post\n",
    "    years = df['creation_date'].str.split('-').str[0]\n",
    "    # Count the number of posts for each year\n",
    "    year_counts = Counter(years)\n",
    "    # Get the years in order of most posts\n",
    "    return [year for year, _ in year_counts.most_common()]\n",
    "\n",
    "# Get the years in order of most posts\n",
    "years_in_order_of_most_posts = get_years_in_order_of_most_posts(dd)\n",
    "print(years_in_order_of_most_posts)"
   ]
  },
  {
   "cell_type": "code",
   "execution_count": null,
   "metadata": {},
   "outputs": [],
   "source": [
    "# Get the max, min, mode, and mean of the number of comments\n",
    "max_comments = dd['num_comments'].max()\n",
    "min_comments = dd['num_comments'].min()\n",
    "mode_comments = dd['num_comments'].mode()\n",
    "mean_comments = dd['num_comments'].mean()\n",
    "print(max_comments, min_comments, mode_comments, mean_comments)"
   ]
  },
  {
   "cell_type": "code",
   "execution_count": null,
   "metadata": {},
   "outputs": [],
   "source": [
    "# Get some stats about the upvote ratio\n",
    "\n",
    "min_ratio = dd['upvote_ratio'].min()\n",
    "mean_ratio = dd['upvote_ratio'].mean()\n",
    "\n",
    "print(min_ratio, mean_ratio)"
   ]
  },
  {
   "cell_type": "code",
   "execution_count": null,
   "metadata": {},
   "outputs": [],
   "source": [
    "# Number of unique values per column\n",
    "unique_counts = dd.nunique()\n",
    "\n",
    "# Missing values per column\n",
    "missing_values = dd.isnull().sum()\n",
    "\n",
    "# Value counts for categorical columns\n",
    "author_counts = dd['author'].value_counts()\n",
    "subreddit_counts = dd['subreddit'].value_counts()\n",
    "subreddit_counts = dd['SubReddit'].value_counts()\n",
    "\n",
    "# Display the results\n",
    "print(\"\\nNumber of Unique Values per Column:\\n\", unique_counts)\n",
    "print(\"\\nMissing Values per Column:\\n\", missing_values)\n",
    "print(\"\\nAuthor Counts:\\n\", author_counts)\n",
    "print(\"\\nSubreddit Counts:\\n\", subreddit_counts)"
   ]
  },
  {
   "cell_type": "code",
   "execution_count": null,
   "metadata": {},
   "outputs": [],
   "source": [
    "def get_mean_stats_per_subreddit(df):\n",
    "    # Get the mean number of comments, upvote ratio, and score for each subreddit\n",
    "    return df.groupby('SubReddit')[['num_comments', 'upvote_ratio', 'score']].mean()\n",
    "\n",
    "# Get the mean number of comments, upvote ratio, and score for each subreddit\n",
    "mean_stats_per_subreddit = get_mean_stats_per_subreddit(dd)\n",
    "print(mean_stats_per_subreddit)\n"
   ]
  }
 ],
 "metadata": {
  "kernelspec": {
   "display_name": "base",
   "language": "python",
   "name": "python3"
  },
  "language_info": {
   "name": "python",
   "version": "3.9.13"
  }
 },
 "nbformat": 4,
 "nbformat_minor": 2
}
