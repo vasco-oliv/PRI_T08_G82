{
 "cells": [
  {
   "cell_type": "markdown",
   "metadata": {},
   "source": [
    "# Dataset preparation"
   ]
  },
  {
   "cell_type": "code",
   "execution_count": 2,
   "metadata": {},
   "outputs": [],
   "source": [
    "import pandas as pd"
   ]
  },
  {
   "cell_type": "code",
   "execution_count": 3,
   "metadata": {},
   "outputs": [],
   "source": [
    "def read_source_csv(folder_path):\n",
    "    adhd_df = pd.read_csv(folder_path + '/adhd.csv')\n",
    "    aspergers_df = pd.read_csv(folder_path + '/aspergers.csv')\n",
    "    depression_df = pd.read_csv(folder_path + '/depression.csv')\n",
    "    ocd_df = pd.read_csv(folder_path + '/ocd.csv')\n",
    "    ptsd_df = pd.read_csv(folder_path + '/ptsd.csv')\n",
    "\n",
    "    # join everything together with a new column for the label\n",
    "    adhd_df['SubReddit'] = 'adhd'\n",
    "    aspergers_df['SubReddit'] = 'aspergers'\n",
    "    depression_df['SubReddit'] = 'depression'\n",
    "    ocd_df['SubReddit'] = 'ocd'\n",
    "    ptsd_df['SubReddit'] = 'ptsd'\n",
    "\n",
    "    return pd.concat([adhd_df, aspergers_df, depression_df, ocd_df, ptsd_df])\n",
    "\n",
    "def read_clean_csv(file_path):\n",
    "    return pd.read_csv(file_path)"
   ]
  },
  {
   "cell_type": "code",
   "execution_count": 4,
   "metadata": {},
   "outputs": [
    {
     "name": "stdout",
     "output_type": "stream",
     "text": [
      "87078\n"
     ]
    }
   ],
   "source": [
    "df = read_clean_csv('Dataset/dataset.csv')\n",
    "\n",
    "# Print the number of rows of the dataset\n",
    "print(df.shape[0])"
   ]
  },
  {
   "cell_type": "markdown",
   "metadata": {},
   "source": [
    "## Cleaning the data"
   ]
  },
  {
   "cell_type": "code",
   "execution_count": 19,
   "metadata": {},
   "outputs": [],
   "source": [
    "# Drop NaN values\n",
    "df = df.dropna()\n",
    "\n",
    "# Drop removed bodies\n",
    "df = df[df['body'] != '[removed]']\n",
    "df = df[df['body'] != '[deleted]']\n",
    "\n",
    "print(df.head())"
   ]
  },
  {
   "cell_type": "code",
   "execution_count": 15,
   "metadata": {},
   "outputs": [],
   "source": [
    "# Create a new .csv file with the cleaned data 'df' named dataset.csv, in the folder 'Dataset'\n",
    "df.to_csv('Dataset/dataset.csv', index=False)\n",
    "\n",
    "# Create a new json file with the cleaned data 'df' named dataset, in the folder 'Dataset'\n",
    "df.to_json('Dataset/dataset.json', orient='records', lines=True)\n"
   ]
  }
 ],
 "metadata": {
  "kernelspec": {
   "display_name": "base",
   "language": "python",
   "name": "python3"
  },
  "language_info": {
   "codemirror_mode": {
    "name": "ipython",
    "version": 3
   },
   "file_extension": ".py",
   "mimetype": "text/x-python",
   "name": "python",
   "nbconvert_exporter": "python",
   "pygments_lexer": "ipython3",
   "version": "3.9.13"
  }
 },
 "nbformat": 4,
 "nbformat_minor": 2
}
